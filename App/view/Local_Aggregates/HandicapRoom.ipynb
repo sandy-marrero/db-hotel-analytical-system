{
 "cells": [
  {
   "cell_type": "code",
   "execution_count": 1,
   "id": "61752203-1f7f-4e26-b46c-3b1664590b41",
   "metadata": {},
   "outputs": [],
   "source": [
    "%matplotlib ipympl\n",
    "import matplotlib.pyplot as plt\n",
    "import numpy as np\n",
    "import matplotlib as mpl\n",
    "import requests\n",
    "import json\n",
    "import ipywidgets as widgets\n",
    "from IPython.display import display\n",
    "import os\n",
    "\n",
    "class HandicapRoom:\n",
    "    def __init__(self, user, host, output):\n",
    "        self.user = user\n",
    "        self.host = host\n",
    "        self.output = output\n",
    "        data = {\"eid\": user['eid']}\n",
    "        res = requests.post(f\"{host}/deceptecons/hotel/{user['hid']}/handicaproom\", json=data).json()\n",
    "        res.sort(key=lambda x: x['reservation_count'], reverse=True)\n",
    "        self.names=list(map(lambda x: str(x['rid']),res))\n",
    "        self.reservation_counts=list(map(lambda x: x['reservation_count'],res))\n",
    "        fig, ax = plt.subplots()\n",
    "        ax.set_title(\"Top 5 Most Reserved Handicap Rooms\")\n",
    "        ax.set_ylabel(\"Ammount of Reservations\")\n",
    "        ax.set_xlabel(\"Room ID\")\n",
    "        with self.output:\n",
    "            ax.bar(self.names, self.reservation_counts)\n",
    "            plt.show()\n",
    "\n",
    "def run(user, host, out):\n",
    "    with out:\n",
    "        x = HandicapRoom(user, host, out)"
   ]
  }
 ],
 "metadata": {
  "kernelspec": {
   "display_name": "Python 3 (ipykernel)",
   "language": "python",
   "name": "python3"
  },
  "language_info": {
   "codemirror_mode": {
    "name": "ipython",
    "version": 3
   },
   "file_extension": ".py",
   "mimetype": "text/x-python",
   "name": "python",
   "nbconvert_exporter": "python",
   "pygments_lexer": "ipython3",
   "version": "3.11.2"
  }
 },
 "nbformat": 4,
 "nbformat_minor": 5
}
