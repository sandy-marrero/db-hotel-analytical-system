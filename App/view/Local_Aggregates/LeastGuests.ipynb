{
 "cells": [
  {
   "cell_type": "code",
   "execution_count": null,
   "id": "ab4e0e2d-ce88-469f-96f9-9dff13c1002f",
   "metadata": {},
   "outputs": [],
   "source": [
    "%matplotlib ipympl\n",
    "import matplotlib.pyplot as plt\n",
    "import numpy as np\n",
    "import matplotlib as mpl\n",
    "import requests\n",
    "import json\n",
    "import ipywidgets as widgets\n",
    "from IPython.display import display\n",
    "import os\n",
    "\n",
    "class LeastsGuests:\n",
    "    def __init__(self, user, host, output):\n",
    "        self.output = output\n",
    "        data = {\"eid\": user['eid']}\n",
    "        res = requests.post(f\"{host}/deceptecons/hotel/{user['hid']}/leastguests\", json=data).json()\n",
    "        res.sort(key=lambda x: x['capacity'])\n",
    "        self.names=list(map(lambda x: str(x['rid']),res))\n",
    "        self.capacities=list(map(lambda x: x['capacity'],res))\n",
    "        fig, ax = plt.subplots()\n",
    "        ax.set_title(\"Top 3 rooms that were reserved that had the least guest-to-capacity ratio\")\n",
    "        ax.set_ylabel(\"Ammount of Capacity\")\n",
    "        ax.set_xlabel(\"Room ID\")\n",
    "        with self.output:\n",
    "            ax.bar(self.names, self.capacities)\n",
    "            plt.show()\n",
    "\n",
    "def run(user, host, out):\n",
    "    with out:\n",
    "        x = LeastsGuests(user, host, out)\n",
    "    \n",
    "    "
   ]
  }
 ],
 "metadata": {
  "kernelspec": {
   "display_name": "Python 3 (ipykernel)",
   "language": "python",
   "name": "python3"
  },
  "language_info": {
   "codemirror_mode": {
    "name": "ipython",
    "version": 3
   },
   "file_extension": ".py",
   "mimetype": "text/x-python",
   "name": "python",
   "nbconvert_exporter": "python",
   "pygments_lexer": "ipython3",
   "version": "3.10.12"
  }
 },
 "nbformat": 4,
 "nbformat_minor": 5
}
