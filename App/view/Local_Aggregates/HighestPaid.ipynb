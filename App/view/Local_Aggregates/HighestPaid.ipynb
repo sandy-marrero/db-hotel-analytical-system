{
 "cells": [
  {
   "cell_type": "code",
   "execution_count": null,
   "id": "49c4e8c8-28f6-402d-98fd-153e029a6fa3",
   "metadata": {},
   "outputs": [],
   "source": [
    "%matplotlib ipympl\n",
    "import matplotlib.pyplot as plt\n",
    "import numpy as np\n",
    "import matplotlib as mpl\n",
    "import requests\n",
    "import json\n",
    "import ipywidgets as widgets\n",
    "from IPython.display import display\n",
    "import os\n",
    "\n",
    "class HighestPaid:\n",
    "    def __init__(self, user, host, output):\n",
    "        self.output = output\n",
    "        data = {\"eid\": user['eid']}\n",
    "        res = requests.post(f\"{host}/deceptecons/hotel/{user['hid']}/highestpaid\", json=data).json()\n",
    "        res.sort(key=lambda x: x['salary'])\n",
    "        self.names=list(map(lambda x: f\"{x['lname']}\",res))\n",
    "        self.salaries=list(map(lambda x: x['salary'],res))\n",
    "        fig, ax = plt.subplots()\n",
    "        ax.set_title(\"Top 3 highest Paid Regular Employees\")\n",
    "        ax.set_ylabel(\"Salary in USD\")\n",
    "        with self.output:\n",
    "            ax.bar(self.names, self.salaries)\n",
    "            plt.show()\n",
    "\n",
    "def run(user, host, out):\n",
    "    with out:\n",
    "        x = HighestPaid(user, host, out)\n"
   ]
  }
 ],
 "metadata": {
  "kernelspec": {
   "display_name": "Python 3 (ipykernel)",
   "language": "python",
   "name": "python3"
  },
  "language_info": {
   "codemirror_mode": {
    "name": "ipython",
    "version": 3
   },
   "file_extension": ".py",
   "mimetype": "text/x-python",
   "name": "python",
   "nbconvert_exporter": "python",
   "pygments_lexer": "ipython3",
   "version": "3.11.8"
  }
 },
 "nbformat": 4,
 "nbformat_minor": 5
}
