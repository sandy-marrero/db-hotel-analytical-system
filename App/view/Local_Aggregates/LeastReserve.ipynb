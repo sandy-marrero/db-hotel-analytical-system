{
 "cells": [
  {
   "cell_type": "code",
   "execution_count": null,
   "id": "904f3b46-3c8e-47f3-9609-a0e2fe92e31e",
   "metadata": {},
   "outputs": [],
   "source": [
    "import matplotlib.pyplot as plt\n",
    "import numpy as np\n",
    "import matplotlib as mpl\n",
    "import requests\n",
    "import json\n",
    "import ipywidgets as widgets\n",
    "from IPython.display import display\n",
    "import os\n",
    "\n",
    "class LeastReserve:\n",
    "    def __init__(self, user, host, output):\n",
    "        self.output = output\n",
    "        data = {\"eid\": user['eid']}\n",
    "        res = requests.post(f\"{host}/deceptecons/hotel/{user['hid']}/leastreserve\", json=data).json()\n",
    "        res.sort(key=lambda x: x['days_reserved'], reverse=True)\n",
    "        self.names=list(map(lambda x: str(x['rid']),res))\n",
    "        self.days_reserved=list(map(lambda x: x['days_reserved'],res))\n",
    "        fig, ax = plt.subplots()\n",
    "        ax.set_title(\"Top 3 rooms that were unavailable the least\")\n",
    "        ax.set_ylabel(\"Days Reserved\")\n",
    "        ax.set_xlabel(\"Room ID\")\n",
    "        with self.output:\n",
    "            ax.bar(self.names, self.days_reserved)\n",
    "            plt.show()\n",
    "\n",
    "def run(user, host, out):\n",
    "    with out:\n",
    "        x = LeastReserve(user, host, out)\n"
   ]
  }
 ],
 "metadata": {
  "kernelspec": {
   "display_name": "Python 3 (ipykernel)",
   "language": "python",
   "name": "python3"
  },
  "language_info": {
   "codemirror_mode": {
    "name": "ipython",
    "version": 3
   },
   "file_extension": ".py",
   "mimetype": "text/x-python",
   "name": "python",
   "nbconvert_exporter": "python",
   "pygments_lexer": "ipython3",
   "version": "3.11.8"
  }
 },
 "nbformat": 4,
 "nbformat_minor": 5
}
