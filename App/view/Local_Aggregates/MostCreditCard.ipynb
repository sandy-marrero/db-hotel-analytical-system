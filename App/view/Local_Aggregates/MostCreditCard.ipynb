{
 "cells": [
  {
   "cell_type": "code",
   "execution_count": null,
   "id": "1281815b-2db1-41c6-a73e-09d9575a53ec",
   "metadata": {},
   "outputs": [],
   "source": [
    "import matplotlib.pyplot as plt\n",
    "import numpy as np\n",
    "import matplotlib as mpl\n",
    "import requests\n",
    "import json\n",
    "import ipywidgets as widgets\n",
    "from IPython.display import display\n",
    "import os\n",
    "\n",
    "class MostCreditCard:\n",
    "    def __init__(self, user, host, output):\n",
    "        self.output = output\n",
    "        data = {\"eid\": user['eid']}\n",
    "        res = requests.post(f\"{host}/deceptecons/hotel/{user['hid']}/mostcreditcard\", json=data).json()\n",
    "        res.sort(key=lambda x: x['reservation_count'], reverse=True)\n",
    "        self.names=list(map(lambda x: f\"{x['lname']}\",res))\n",
    "        self.reservation_counts=list(map(lambda x: x['reservation_count'],res))\n",
    "        fig, ax = plt.subplots()\n",
    "        ax.set_title(\"Top 5 Clients Under 30 that Reserved the Most with a Credit Card\")\n",
    "        ax.set_ylabel(\"Reservaton Count\")\n",
    "        with self.output:\n",
    "            ax.bar(self.names, self.reservation_counts)\n",
    "            plt.show()\n",
    "\n",
    "def run(user, host, out):\n",
    "    with out:\n",
    "        x = MostCreditCard(user, host, out)\n"
   ]
  }
 ],
 "metadata": {
  "kernelspec": {
   "display_name": "Python 3 (ipykernel)",
   "language": "python",
   "name": "python3"
  },
  "language_info": {
   "codemirror_mode": {
    "name": "ipython",
    "version": 3
   },
   "file_extension": ".py",
   "mimetype": "text/x-python",
   "name": "python",
   "nbconvert_exporter": "python",
   "pygments_lexer": "ipython3",
   "version": "3.11.8"
  }
 },
 "nbformat": 4,
 "nbformat_minor": 5
}
