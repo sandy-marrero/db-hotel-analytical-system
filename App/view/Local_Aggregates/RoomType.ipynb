{
 "cells": [
  {
   "cell_type": "code",
   "execution_count": null,
   "id": "75267a49-7def-4e64-8de0-a7f5e50b843d",
   "metadata": {},
   "outputs": [],
   "source": [
    "%matplotlib ipympl\n",
    "import matplotlib.pyplot as plt\n",
    "import numpy as np\n",
    "import matplotlib as mpl\n",
    "import requests\n",
    "import json\n",
    "import ipywidgets as widgets\n",
    "from IPython.display import display\n",
    "import os\n",
    "\n",
    "class RoomType:\n",
    "    def __init__(self, user, host, output):\n",
    "        self.output = output\n",
    "        data = {\"eid\": user['eid']}\n",
    "        res = requests.post(f\"{host}/deceptecons/hotel/{user['hid']}/roomtype\", json=data).json()\n",
    "        res.sort(key=lambda x: x['total_reservations'])\n",
    "        self.names=list(map(lambda x: str(x['room_type']),res))\n",
    "        self.total_reservations=list(map(lambda x: x['total_reservations'],res))\n",
    "        fig, ax = plt.subplots()\n",
    "        ax.set_title(\"Total reservation by room type.\")\n",
    "        ax.set_ylabel(\"Ammount of Reservations\")\n",
    "        ax.set_xlabel(\"Room Type\")\n",
    "        with self.output:\n",
    "            ax.bar(self.names, self.total_reservations)\n",
    "            plt.show()\n",
    "\n",
    "def run(user, host, out): \n",
    "    with out:\n",
    "        x = RoomType(user, host, out)\n",
    "\n",
    "    "
   ]
  }
 ],
 "metadata": {
  "kernelspec": {
   "display_name": "Python 3 (ipykernel)",
   "language": "python",
   "name": "python3"
  },
  "language_info": {
   "codemirror_mode": {
    "name": "ipython",
    "version": 3
   },
   "file_extension": ".py",
   "mimetype": "text/x-python",
   "name": "python",
   "nbconvert_exporter": "python",
   "pygments_lexer": "ipython3",
   "version": "3.10.12"
  }
 },
 "nbformat": 4,
 "nbformat_minor": 5
}
