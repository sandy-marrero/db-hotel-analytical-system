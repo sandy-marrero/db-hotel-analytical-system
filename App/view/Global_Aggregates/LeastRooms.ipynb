{
 "cells": [
  {
   "cell_type": "code",
   "execution_count": null,
   "metadata": {},
   "outputs": [],
   "source": [
    "%matplotlib ipympl\n",
    "import os\n",
    "import requests\n",
    "import matplotlib.pyplot as plt\n",
    "import matplotlib as mpl\n",
    "import json\n",
    "import ipywidgets as widgets\n",
    "from IPython.display import display\n",
    "\n",
    "class LeastRooms:\n",
    "    def __init__(self, user, host, output):\n",
    "        self.user = user\n",
    "        self.host = host\n",
    "        self.output = output\n",
    "        data = {\"eid\": user[\"hid\"]}\n",
    "        json_data = requests.post(f\"{host}/deceptecons/least/rooms\", json=data).json()\n",
    "        self.chain_names = [item['chain_name'] for item in json_data]\n",
    "        self.num_rooms = [item['num_rooms'] for item in json_data]\n",
    "        fig, ax = plt.subplots()\n",
    "        ax.set_title(\"Least Number of Rooms by Chain\")\n",
    "        ax.set_ylabel(\"Number of Rooms\")\n",
    "        ax.set_xlabel(\"Chain Name\")\n",
    "        plt.xticks(rotation=45, ha='right')  \n",
    "        plt.tight_layout() \n",
    "        with self.output:\n",
    "            ax.bar(self.chain_names, self.num_rooms, color='skyblue')\n",
    "            plt.show()\n",
    "\n",
    "def run(user, host, out):\n",
    "    with out:\n",
    "        x = LeastRooms(user, host, out)\n"
   ]
  }
 ],
 "metadata": {
  "language_info": {
   "name": "python"
  }
 },
 "nbformat": 4,
 "nbformat_minor": 2
}
