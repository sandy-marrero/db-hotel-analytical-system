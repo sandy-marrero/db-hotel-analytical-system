{
 "cells": [
  {
   "cell_type": "code",
   "execution_count": null,
   "metadata": {},
   "outputs": [],
   "source": [
    "%matplotlib ipympl\n",
    "import os\n",
    "import requests\n",
    "import matplotlib.pyplot as plt\n",
    "import ipywidgets as widgets\n",
    "from IPython.display import display\n",
    "\n",
    "class MostCapacity:\n",
    "    def __init__(self, user, host, output):\n",
    "        self.user = user\n",
    "        self.host = host\n",
    "        self.output = output\n",
    "        data = {\"eid\": user[\"hid\"]}\n",
    "        json_data = requests.post(f\"{host}/deceptecons/most/capacity\", json=data).json()\n",
    "        self.hotel_name = [item['hotel_name'] for item in json_data]\n",
    "        self.total_capacity = [item['total_capacity'] for item in json_data]\n",
    "        fig, ax = plt.subplots()\n",
    "        ax.set_title(\"Top Client Capacity by Hotel Names\")\n",
    "        ax.set_ylabel(\"Number of Clients\")\n",
    "        ax.set_xlabel(\"Hotel Names\")\n",
    "        plt.xticks(rotation=45, ha='right')  \n",
    "        plt.tight_layout() \n",
    "        with self.output:\n",
    "            ax.bar(self.hotel_name, self.total_capacity, color='skyblue')\n",
    "            plt.show()\n",
    "\n",
    "def run(user, host, out):\n",
    "    with out:\n",
    "        x = MostCapacity(user, host, out)\n",
    "     "
   ]
  }
 ],
 "metadata": {
  "kernelspec": {
   "display_name": "Python 3 (ipykernel)",
   "language": "python",
   "name": "python3"
  },
  "language_info": {
   "codemirror_mode": {
    "name": "ipython",
    "version": 3
   },
   "file_extension": ".py",
   "mimetype": "text/x-python",
   "name": "python",
   "nbconvert_exporter": "python",
   "pygments_lexer": "ipython3",
   "version": "3.11.0"
  }
 },
 "nbformat": 4,
 "nbformat_minor": 4
}
