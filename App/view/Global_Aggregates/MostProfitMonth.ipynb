{
 "cells": [
  {
   "cell_type": "code",
   "execution_count": null,
   "metadata": {},
   "outputs": [],
   "source": [
    "%matplotlib ipympl\n",
    "import os\n",
    "import requests\n",
    "import matplotlib.pyplot as plt\n",
    "import ipywidgets as widgets\n",
    "from IPython.display import display\n",
    "\n",
    "class MostProfitMonth:\n",
    "\n",
    "    def number_to_month(self, number):\n",
    "        if number < 1 or number > 12:\n",
    "            return \"Invalid number. Please enter a number between 1 and 12.\"\n",
    "        \n",
    "        months = {\n",
    "            1: \"January\",\n",
    "            2: \"February\",\n",
    "            3: \"March\",\n",
    "            4: \"April\",\n",
    "            5: \"May\",\n",
    "            6: \"June\",\n",
    "            7: \"July\",\n",
    "            8: \"August\",\n",
    "            9: \"September\",\n",
    "            10: \"October\",\n",
    "            11: \"November\",\n",
    "            12: \"December\"\n",
    "        }\n",
    "    \n",
    "        return months[number]\n",
    "\n",
    "    def __init__(self, user, host, output):\n",
    "        self.user = user\n",
    "        self.host = host\n",
    "        self.output = output\n",
    "        data = {\"eid\": user[\"hid\"]}\n",
    "        json_data = requests.post(f\"{host}/deceptecons/most/profitmonth\", json=data).json()\n",
    "        self.reservation_month = [item['chain_name'] + \": \" + self.number_to_month(item['reservation_month']) for item in json_data]\n",
    "        self.reservation_count = [item['reservation_count'] for item in json_data]\n",
    "        fig, ax = plt.subplots()\n",
    "        ax.set_title(\"Top Months with Most Reservations by chain\")\n",
    "        \n",
    "        ax.set_ylabel(\"Number of Reservations\")\n",
    "        ax.set_xlabel(\"Chain + Month\")\n",
    "        plt.xticks(rotation=45, ha='right')  \n",
    "        plt.tight_layout() \n",
    "        with self.output:\n",
    "            ax.bar(self.reservation_month, self.reservation_count, color='skyblue')\n",
    "            plt.show()\n",
    "\n",
    "def run(user, host, out):\n",
    "    with out:\n",
    "        x = MostProfitMonth(user, host, out)\n",
    "     "
   ]
  }
 ],
 "metadata": {
  "kernelspec": {
   "display_name": "Python 3 (ipykernel)",
   "language": "python",
   "name": "python3"
  },
  "language_info": {
   "codemirror_mode": {
    "name": "ipython",
    "version": 3
   },
   "file_extension": ".py",
   "mimetype": "text/x-python",
   "name": "python",
   "nbconvert_exporter": "python",
   "pygments_lexer": "ipython3",
   "version": "3.11.0"
  }
 },
 "nbformat": 4,
 "nbformat_minor": 4
}
