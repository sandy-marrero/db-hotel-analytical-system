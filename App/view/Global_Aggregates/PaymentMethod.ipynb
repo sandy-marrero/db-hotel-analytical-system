{
 "cells": [
  {
   "cell_type": "code",
   "execution_count": null,
   "metadata": {},
   "outputs": [],
   "source": [
    "%matplotlib ipympl\n",
    "import os\n",
    "import requests\n",
    "import matplotlib.pyplot as plt\n",
    "import ipywidgets as widgets\n",
    "from IPython.display import display\n",
    "\n",
    "class PaymentMethod:\n",
    "    def __init__(self, user, host, output):\n",
    "        self.user = user\n",
    "        self.host = host\n",
    "        self.output = output\n",
    "        data = {\"eid\": user[\"hid\"]}\n",
    "        json_data = requests.post(f\"{host}/deceptecons/paymentmethod\", json=data).json()\n",
    "        self.payment_methods = [item['payment_method'] for item in json_data]\n",
    "        self.payment_percentages = [item['payment_percentage'] for item in json_data]\n",
    "        fig, ax = plt.subplots()\n",
    "        ax.axis('equal')  \n",
    "        ax.set_title(\"Payment Methods Distribution\")\n",
    "        plt.tight_layout()  \n",
    "        with self.output:\n",
    "            ax.pie(self.payment_percentages, labels=self.payment_methods, autopct='%1.1f%%', startangle=140)\n",
    "            plt.show()\n",
    "\n",
    "def run(user, host, out):\n",
    "    with out:\n",
    "        x = PaymentMethod(user, host, out)"
   ]
  }
 ],
 "metadata": {
  "language_info": {
   "name": "python"
  }
 },
 "nbformat": 4,
 "nbformat_minor": 2
}
