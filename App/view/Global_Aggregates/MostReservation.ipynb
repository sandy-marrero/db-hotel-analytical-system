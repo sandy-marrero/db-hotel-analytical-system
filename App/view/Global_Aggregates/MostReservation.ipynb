{
 "cells": [
  {
   "cell_type": "code",
   "execution_count": null,
   "metadata": {},
   "outputs": [],
   "source": [
    "%matplotlib ipympl\n",
    "import os\n",
    "import requests\n",
    "import matplotlib.pyplot as plt\n",
    "import ipywidgets as widgets\n",
    "from IPython.display import display\n",
    "\n",
    "class MostReservation:\n",
    "    def __init__(self, user, host, output):\n",
    "        self.user = user\n",
    "        self.host = host\n",
    "        self.output = output\n",
    "        data = {\"eid\": user['hid']}\n",
    "        json_data = requests.post(f\"{host}/deceptecons/most/reservation\", json=data).json()\n",
    "        self.hotel_name = [item['hotel_name'] for item in json_data]\n",
    "        self.reservation_count = [item['reservation_count'] for item in json_data]\n",
    "        fig, ax = plt.subplots(figsize=(15, 6))\n",
    "        ax.set_title(\"Top Reservations by Hotel Name\")\n",
    "        ax.set_ylabel(\"Number of Reservations\")\n",
    "        ax.set_xlabel(\"Hotel Name\")\n",
    "        plt.xticks(rotation=45, ha='right')  \n",
    "        plt.tight_layout() \n",
    "        with self.output:\n",
    "            ax.bar(self.hotel_name, self.reservation_count, color='skyblue')\n",
    "            plt.show()\n",
    "\n",
    "def run(user, host, out):\n",
    "    with out:\n",
    "        x = MostReservation(user, host, out)\n",
    "     "
   ]
  }
 ],
 "metadata": {
  "kernelspec": {
   "display_name": "Python 3 (ipykernel)",
   "language": "python",
   "name": "python3"
  },
  "language_info": {
   "codemirror_mode": {
    "name": "ipython",
    "version": 3
   },
   "file_extension": ".py",
   "mimetype": "text/x-python",
   "name": "python",
   "nbconvert_exporter": "python",
   "pygments_lexer": "ipython3",
   "version": "3.11.0"
  }
 },
 "nbformat": 4,
 "nbformat_minor": 4
}
