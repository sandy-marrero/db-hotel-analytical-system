{
 "cells": [
  {
   "cell_type": "code",
   "execution_count": 1,
   "id": "25b6ad73-b2e4-4c32-b4e7-712ed58365f6",
   "metadata": {
    "scrolled": true
   },
   "outputs": [
    {
     "data": {
      "application/vnd.jupyter.widget-view+json": {
       "model_id": "",
       "version_major": 2,
       "version_minor": 0
      },
      "text/plain": [
       "Text(value='', description='Username:', placeholder='Enter your username')"
      ]
     },
     "metadata": {},
     "output_type": "display_data"
    },
    {
     "data": {
      "application/vnd.jupyter.widget-view+json": {
       "model_id": "",
       "version_major": 2,
       "version_minor": 0
      },
      "text/plain": [
       "Password(description='Password:', placeholder='Enter password')"
      ]
     },
     "metadata": {},
     "output_type": "display_data"
    },
    {
     "data": {
      "application/vnd.jupyter.widget-view+json": {
       "model_id": "",
       "version_major": 2,
       "version_minor": 0
      },
      "text/plain": [
       "Button(button_style='success', description='Log in', icon='check', style=ButtonStyle(), tooltip='Log in')"
      ]
     },
     "metadata": {},
     "output_type": "display_data"
    },
    {
     "data": {
      "application/vnd.jupyter.widget-view+json": {
       "model_id": "",
       "version_major": 2,
       "version_minor": 0
      },
      "text/plain": [
       "Button(button_style='info', description=\"Don't have an account? Create one.\", icon='check', layout=Layout(widt…"
      ]
     },
     "metadata": {},
     "output_type": "display_data"
    },
    {
     "data": {
      "application/vnd.jupyter.widget-view+json": {
       "model_id": "6e141f3bb0ac48e6b6297a568783e2ac",
       "version_major": 2,
       "version_minor": 0
      },
      "text/plain": [
       "Output()"
      ]
     },
     "execution_count": 1,
     "metadata": {},
     "output_type": "execute_result"
    }
   ],
   "source": [
    "import ipywidgets as widgets\n",
    "from IPython.display import display\n",
    "import requests\n",
    "\n",
    "global user\n",
    "user: dict = {}\n",
    "global host\n",
    "host: str = \"https://ciic4060-has-deceptecons-959fd5a6ebe8.herokuapp.com/\"\n",
    "out = widgets.Output()\n",
    "\n",
    "class UserLogin:\n",
    "    def __init__(self):\n",
    "        self.username = widgets.Text(\n",
    "            placeholder='Enter your username',\n",
    "            description='Username:',\n",
    "            disabled=False   \n",
    "        )\n",
    "        \n",
    "        self.password = widgets.Password(\n",
    "            placeholder='Enter password',\n",
    "            description='Password:',\n",
    "            disabled=False\n",
    "        )\n",
    "        \n",
    "        self.button = widgets.Button(\n",
    "            description='Log in',\n",
    "            disabled=False,\n",
    "            button_style='success', # 'success', 'info', 'warning', 'danger' or ''\n",
    "            tooltip='Log in',\n",
    "            icon='check' # (FontAwesome names without the `fa-` prefix)\n",
    "        )\n",
    "\n",
    "        self.create_account_button = widgets.Button (\n",
    "            description=\"Don't have an account? Create one.\",\n",
    "            disabled=False,\n",
    "            button_style='info', # 'success', 'info', 'warning', 'danger' or ''\n",
    "            tooltip='Log in',\n",
    "            icon='check', # (FontAwesome names without the `fa-` prefix)\n",
    "            layout=widgets.Layout(width='40%')\n",
    "        )\n",
    "        \n",
    "        self.button.on_click(self.validate_user)\n",
    "        self.create_account_button.on_click(self.launch_createaccount)\n",
    "        self.displayUserLogin()\n",
    "\n",
    "    def launch_createaccount(self, b):\n",
    "        self.hideUserLogin()\n",
    "        with out:\n",
    "            %run CreateUser.ipynb\n",
    "            run(host, out)\n",
    "        \n",
    "    def validate_user(self,b):\n",
    "        ret = requests.get(f\"{host}/deceptecons/login\").json()\n",
    "        user = [name for name in ret if name[\"user\"] == self.username.value]\n",
    "        if len(user) == 0:\n",
    "            return\n",
    "        self.user = user[0]\n",
    "    \n",
    "        employee = requests.get(f\"{host}/deceptecons/employee/{self.user['eid']}\").json()\n",
    "        self.user['hid'] = employee[0]['hid']\n",
    "        self.user['position'] = employee[0]['position']\n",
    "\n",
    "        if self.user['pass'] != self.password.value:\n",
    "            return\n",
    "        else:\n",
    "            with out:\n",
    "                self.hideUserLogin()\n",
    "                %run AggregateSelectorDasboard.ipynb\n",
    "                run(self.user, host, out)\n",
    "            \n",
    "            \n",
    "    def displayUserLogin(self):\n",
    "        \n",
    "       display(self.username)\n",
    "       display(self.password)\n",
    "       display(self.button)\n",
    "       display(self.create_account_button)\n",
    "        \n",
    "    def hideUserLogin(self):\n",
    "        self.username.close()\n",
    "        self.password.close()\n",
    "        self.button.close()\n",
    "        self.create_account_button.close()\n",
    "\n",
    "x = UserLogin()\n",
    "out"
   ]
  },
  {
   "cell_type": "code",
   "execution_count": null,
   "id": "0004c46c-e12a-45b9-8fe6-6fafd3181c27",
   "metadata": {},
   "outputs": [],
   "source": []
  }
 ],
 "metadata": {
  "kernelspec": {
   "display_name": "Python 3 (ipykernel)",
   "language": "python",
   "name": "python3"
  },
  "language_info": {
   "codemirror_mode": {
    "name": "ipython",
    "version": 3
   },
   "file_extension": ".py",
   "mimetype": "text/x-python",
   "name": "python",
   "nbconvert_exporter": "python",
   "pygments_lexer": "ipython3",
   "version": "3.11.2"
  }
 },
 "nbformat": 4,
 "nbformat_minor": 5
}
